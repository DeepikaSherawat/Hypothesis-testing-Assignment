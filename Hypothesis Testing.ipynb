{
 "cells": [
  {
   "cell_type": "code",
   "execution_count": 1,
   "id": "083f9006",
   "metadata": {},
   "outputs": [
    {
     "data": {
      "text/plain": [
       "'A F&B manager wants to determine whether there is any significant difference in the diameter of the cutlet between two units. A randomly selected sample of cutlets was collected from both units and measured? Analyze the data and draw inferences at 5% significance level. Please state the assumptions and tests that you carried out to check validity of the assumptions.\\n'"
      ]
     },
     "execution_count": 1,
     "metadata": {},
     "output_type": "execute_result"
    }
   ],
   "source": [
    "'''A F&B manager wants to determine whether there is any significant difference in the diameter of the cutlet between two units. A randomly selected sample of cutlets was collected from both units and measured? Analyze the data and draw inferences at 5% significance level. Please state the assumptions and tests that you carried out to check validity of the assumptions.\n",
    "'''"
   ]
  },
  {
   "cell_type": "code",
   "execution_count": 1,
   "id": "eb98f16d",
   "metadata": {},
   "outputs": [],
   "source": [
    "import pandas as pd\n",
    "import numpy as np\n",
    "import scipy\n",
    "from scipy import stats"
   ]
  },
  {
   "cell_type": "code",
   "execution_count": 2,
   "id": "35e556fc",
   "metadata": {},
   "outputs": [],
   "source": [
    "df=pd.read_csv(\"Cutlets.csv\")"
   ]
  },
  {
   "cell_type": "code",
   "execution_count": 4,
   "id": "d897a01d",
   "metadata": {},
   "outputs": [
    {
     "data": {
      "text/html": [
       "<div>\n",
       "<style scoped>\n",
       "    .dataframe tbody tr th:only-of-type {\n",
       "        vertical-align: middle;\n",
       "    }\n",
       "\n",
       "    .dataframe tbody tr th {\n",
       "        vertical-align: top;\n",
       "    }\n",
       "\n",
       "    .dataframe thead th {\n",
       "        text-align: right;\n",
       "    }\n",
       "</style>\n",
       "<table border=\"1\" class=\"dataframe\">\n",
       "  <thead>\n",
       "    <tr style=\"text-align: right;\">\n",
       "      <th></th>\n",
       "      <th>Unit A</th>\n",
       "      <th>Unit B</th>\n",
       "    </tr>\n",
       "  </thead>\n",
       "  <tbody>\n",
       "    <tr>\n",
       "      <th>0</th>\n",
       "      <td>6.8090</td>\n",
       "      <td>6.7703</td>\n",
       "    </tr>\n",
       "    <tr>\n",
       "      <th>1</th>\n",
       "      <td>6.4376</td>\n",
       "      <td>7.5093</td>\n",
       "    </tr>\n",
       "    <tr>\n",
       "      <th>2</th>\n",
       "      <td>6.9157</td>\n",
       "      <td>6.7300</td>\n",
       "    </tr>\n",
       "    <tr>\n",
       "      <th>3</th>\n",
       "      <td>7.3012</td>\n",
       "      <td>6.7878</td>\n",
       "    </tr>\n",
       "    <tr>\n",
       "      <th>4</th>\n",
       "      <td>7.4488</td>\n",
       "      <td>7.1522</td>\n",
       "    </tr>\n",
       "  </tbody>\n",
       "</table>\n",
       "</div>"
      ],
      "text/plain": [
       "   Unit A  Unit B\n",
       "0  6.8090  6.7703\n",
       "1  6.4376  7.5093\n",
       "2  6.9157  6.7300\n",
       "3  7.3012  6.7878\n",
       "4  7.4488  7.1522"
      ]
     },
     "execution_count": 4,
     "metadata": {},
     "output_type": "execute_result"
    }
   ],
   "source": [
    "df.head()"
   ]
  },
  {
   "cell_type": "code",
   "execution_count": 6,
   "id": "39937386",
   "metadata": {},
   "outputs": [
    {
     "data": {
      "text/plain": [
       "(35, 2)"
      ]
     },
     "execution_count": 6,
     "metadata": {},
     "output_type": "execute_result"
    }
   ],
   "source": [
    "df.shape"
   ]
  },
  {
   "cell_type": "code",
   "execution_count": 9,
   "id": "9c1e3447",
   "metadata": {},
   "outputs": [],
   "source": [
    "data1=df[[\"Unit A\"]]"
   ]
  },
  {
   "cell_type": "code",
   "execution_count": 10,
   "id": "aac90ed8",
   "metadata": {},
   "outputs": [
    {
     "data": {
      "text/html": [
       "<div>\n",
       "<style scoped>\n",
       "    .dataframe tbody tr th:only-of-type {\n",
       "        vertical-align: middle;\n",
       "    }\n",
       "\n",
       "    .dataframe tbody tr th {\n",
       "        vertical-align: top;\n",
       "    }\n",
       "\n",
       "    .dataframe thead th {\n",
       "        text-align: right;\n",
       "    }\n",
       "</style>\n",
       "<table border=\"1\" class=\"dataframe\">\n",
       "  <thead>\n",
       "    <tr style=\"text-align: right;\">\n",
       "      <th></th>\n",
       "      <th>Unit A</th>\n",
       "    </tr>\n",
       "  </thead>\n",
       "  <tbody>\n",
       "    <tr>\n",
       "      <th>0</th>\n",
       "      <td>6.8090</td>\n",
       "    </tr>\n",
       "    <tr>\n",
       "      <th>1</th>\n",
       "      <td>6.4376</td>\n",
       "    </tr>\n",
       "    <tr>\n",
       "      <th>2</th>\n",
       "      <td>6.9157</td>\n",
       "    </tr>\n",
       "    <tr>\n",
       "      <th>3</th>\n",
       "      <td>7.3012</td>\n",
       "    </tr>\n",
       "    <tr>\n",
       "      <th>4</th>\n",
       "      <td>7.4488</td>\n",
       "    </tr>\n",
       "    <tr>\n",
       "      <th>5</th>\n",
       "      <td>7.3871</td>\n",
       "    </tr>\n",
       "    <tr>\n",
       "      <th>6</th>\n",
       "      <td>6.8755</td>\n",
       "    </tr>\n",
       "    <tr>\n",
       "      <th>7</th>\n",
       "      <td>7.0621</td>\n",
       "    </tr>\n",
       "    <tr>\n",
       "      <th>8</th>\n",
       "      <td>6.6840</td>\n",
       "    </tr>\n",
       "    <tr>\n",
       "      <th>9</th>\n",
       "      <td>6.8236</td>\n",
       "    </tr>\n",
       "    <tr>\n",
       "      <th>10</th>\n",
       "      <td>7.3930</td>\n",
       "    </tr>\n",
       "    <tr>\n",
       "      <th>11</th>\n",
       "      <td>7.5169</td>\n",
       "    </tr>\n",
       "    <tr>\n",
       "      <th>12</th>\n",
       "      <td>6.9246</td>\n",
       "    </tr>\n",
       "    <tr>\n",
       "      <th>13</th>\n",
       "      <td>6.9256</td>\n",
       "    </tr>\n",
       "    <tr>\n",
       "      <th>14</th>\n",
       "      <td>6.5797</td>\n",
       "    </tr>\n",
       "    <tr>\n",
       "      <th>15</th>\n",
       "      <td>6.8394</td>\n",
       "    </tr>\n",
       "    <tr>\n",
       "      <th>16</th>\n",
       "      <td>6.5970</td>\n",
       "    </tr>\n",
       "    <tr>\n",
       "      <th>17</th>\n",
       "      <td>7.2705</td>\n",
       "    </tr>\n",
       "    <tr>\n",
       "      <th>18</th>\n",
       "      <td>7.2828</td>\n",
       "    </tr>\n",
       "    <tr>\n",
       "      <th>19</th>\n",
       "      <td>7.3495</td>\n",
       "    </tr>\n",
       "    <tr>\n",
       "      <th>20</th>\n",
       "      <td>6.9438</td>\n",
       "    </tr>\n",
       "    <tr>\n",
       "      <th>21</th>\n",
       "      <td>7.1560</td>\n",
       "    </tr>\n",
       "    <tr>\n",
       "      <th>22</th>\n",
       "      <td>6.5341</td>\n",
       "    </tr>\n",
       "    <tr>\n",
       "      <th>23</th>\n",
       "      <td>7.2854</td>\n",
       "    </tr>\n",
       "    <tr>\n",
       "      <th>24</th>\n",
       "      <td>6.9952</td>\n",
       "    </tr>\n",
       "    <tr>\n",
       "      <th>25</th>\n",
       "      <td>6.8568</td>\n",
       "    </tr>\n",
       "    <tr>\n",
       "      <th>26</th>\n",
       "      <td>7.2163</td>\n",
       "    </tr>\n",
       "    <tr>\n",
       "      <th>27</th>\n",
       "      <td>6.6801</td>\n",
       "    </tr>\n",
       "    <tr>\n",
       "      <th>28</th>\n",
       "      <td>6.9431</td>\n",
       "    </tr>\n",
       "    <tr>\n",
       "      <th>29</th>\n",
       "      <td>7.0852</td>\n",
       "    </tr>\n",
       "    <tr>\n",
       "      <th>30</th>\n",
       "      <td>6.7794</td>\n",
       "    </tr>\n",
       "    <tr>\n",
       "      <th>31</th>\n",
       "      <td>7.2783</td>\n",
       "    </tr>\n",
       "    <tr>\n",
       "      <th>32</th>\n",
       "      <td>7.1561</td>\n",
       "    </tr>\n",
       "    <tr>\n",
       "      <th>33</th>\n",
       "      <td>7.3943</td>\n",
       "    </tr>\n",
       "    <tr>\n",
       "      <th>34</th>\n",
       "      <td>6.9405</td>\n",
       "    </tr>\n",
       "  </tbody>\n",
       "</table>\n",
       "</div>"
      ],
      "text/plain": [
       "    Unit A\n",
       "0   6.8090\n",
       "1   6.4376\n",
       "2   6.9157\n",
       "3   7.3012\n",
       "4   7.4488\n",
       "5   7.3871\n",
       "6   6.8755\n",
       "7   7.0621\n",
       "8   6.6840\n",
       "9   6.8236\n",
       "10  7.3930\n",
       "11  7.5169\n",
       "12  6.9246\n",
       "13  6.9256\n",
       "14  6.5797\n",
       "15  6.8394\n",
       "16  6.5970\n",
       "17  7.2705\n",
       "18  7.2828\n",
       "19  7.3495\n",
       "20  6.9438\n",
       "21  7.1560\n",
       "22  6.5341\n",
       "23  7.2854\n",
       "24  6.9952\n",
       "25  6.8568\n",
       "26  7.2163\n",
       "27  6.6801\n",
       "28  6.9431\n",
       "29  7.0852\n",
       "30  6.7794\n",
       "31  7.2783\n",
       "32  7.1561\n",
       "33  7.3943\n",
       "34  6.9405"
      ]
     },
     "execution_count": 10,
     "metadata": {},
     "output_type": "execute_result"
    }
   ],
   "source": [
    "data1"
   ]
  },
  {
   "cell_type": "code",
   "execution_count": 11,
   "id": "7003320d",
   "metadata": {},
   "outputs": [],
   "source": [
    "data2=df[[\"Unit B\"]]"
   ]
  },
  {
   "cell_type": "code",
   "execution_count": 12,
   "id": "697bbbf8",
   "metadata": {},
   "outputs": [
    {
     "data": {
      "text/plain": [
       "Ttest_indResult(statistic=array([0.72286887]), pvalue=array([0.47223947]))"
      ]
     },
     "execution_count": 12,
     "metadata": {},
     "output_type": "execute_result"
    }
   ],
   "source": [
    "stats.ttest_ind(data1,data2)"
   ]
  },
  {
   "cell_type": "code",
   "execution_count": 13,
   "id": "4d62ba11",
   "metadata": {},
   "outputs": [
    {
     "data": {
      "text/plain": [
       "'if we reject null hypothesis that there is no difference between the diameter of the cutlet,we will be wrong by a probability of 0.472.\\nTherefore null hypothesis is true.There is no change in the diameter of cutlet\\n\\n'"
      ]
     },
     "execution_count": 13,
     "metadata": {},
     "output_type": "execute_result"
    }
   ],
   "source": [
    "'''if we reject null hypothesis that there is no difference between the diameter of the cutlet,we will be wrong by a probability of 0.472.\n",
    "Therefore null hypothesis is true.There is no change in the diameter of cutlet\n",
    "\n",
    "'''"
   ]
  },
  {
   "cell_type": "code",
   "execution_count": 2,
   "id": "49d32373",
   "metadata": {},
   "outputs": [
    {
     "data": {
      "text/plain": [
       "'A hospital wants to determine whether there is any difference in the average Turn Around Time (TAT) of reports of the laboratories on their preferred list. They collected a random sample and recorded TAT for reports of 4 laboratories. TAT is defined as sample collected to report dispatch.\\n   \\n  Analyze the data and determine whether there is any difference in average TAT among the different laboratories at 5% significance level.\\n'"
      ]
     },
     "execution_count": 2,
     "metadata": {},
     "output_type": "execute_result"
    }
   ],
   "source": [
    "'''A hospital wants to determine whether there is any difference in the average Turn Around Time (TAT) of reports of the laboratories on their preferred list. They collected a random sample and recorded TAT for reports of 4 laboratories. TAT is defined as sample collected to report dispatch.\n",
    "   \n",
    "  Analyze the data and determine whether there is any difference in average TAT among the different laboratories at 5% significance level.\n",
    "'''"
   ]
  },
  {
   "cell_type": "code",
   "execution_count": 14,
   "id": "661ecde5",
   "metadata": {},
   "outputs": [],
   "source": [
    "import pandas as pd\n",
    "import numpy as np\n",
    "import scipy\n",
    "from scipy import stats"
   ]
  },
  {
   "cell_type": "code",
   "execution_count": 15,
   "id": "caf0180e",
   "metadata": {},
   "outputs": [],
   "source": [
    "df=pd.read_csv(\"LabTAT.csv\")"
   ]
  },
  {
   "cell_type": "code",
   "execution_count": 16,
   "id": "dabd937c",
   "metadata": {},
   "outputs": [
    {
     "data": {
      "text/html": [
       "<div>\n",
       "<style scoped>\n",
       "    .dataframe tbody tr th:only-of-type {\n",
       "        vertical-align: middle;\n",
       "    }\n",
       "\n",
       "    .dataframe tbody tr th {\n",
       "        vertical-align: top;\n",
       "    }\n",
       "\n",
       "    .dataframe thead th {\n",
       "        text-align: right;\n",
       "    }\n",
       "</style>\n",
       "<table border=\"1\" class=\"dataframe\">\n",
       "  <thead>\n",
       "    <tr style=\"text-align: right;\">\n",
       "      <th></th>\n",
       "      <th>Laboratory 1</th>\n",
       "      <th>Laboratory 2</th>\n",
       "      <th>Laboratory 3</th>\n",
       "      <th>Laboratory 4</th>\n",
       "    </tr>\n",
       "  </thead>\n",
       "  <tbody>\n",
       "    <tr>\n",
       "      <th>0</th>\n",
       "      <td>185.35</td>\n",
       "      <td>165.53</td>\n",
       "      <td>176.70</td>\n",
       "      <td>166.13</td>\n",
       "    </tr>\n",
       "    <tr>\n",
       "      <th>1</th>\n",
       "      <td>170.49</td>\n",
       "      <td>185.91</td>\n",
       "      <td>198.45</td>\n",
       "      <td>160.79</td>\n",
       "    </tr>\n",
       "    <tr>\n",
       "      <th>2</th>\n",
       "      <td>192.77</td>\n",
       "      <td>194.92</td>\n",
       "      <td>201.23</td>\n",
       "      <td>185.18</td>\n",
       "    </tr>\n",
       "    <tr>\n",
       "      <th>3</th>\n",
       "      <td>177.33</td>\n",
       "      <td>183.00</td>\n",
       "      <td>199.61</td>\n",
       "      <td>176.42</td>\n",
       "    </tr>\n",
       "    <tr>\n",
       "      <th>4</th>\n",
       "      <td>193.41</td>\n",
       "      <td>169.57</td>\n",
       "      <td>204.63</td>\n",
       "      <td>152.60</td>\n",
       "    </tr>\n",
       "  </tbody>\n",
       "</table>\n",
       "</div>"
      ],
      "text/plain": [
       "   Laboratory 1  Laboratory 2  Laboratory 3  Laboratory 4\n",
       "0        185.35        165.53        176.70        166.13\n",
       "1        170.49        185.91        198.45        160.79\n",
       "2        192.77        194.92        201.23        185.18\n",
       "3        177.33        183.00        199.61        176.42\n",
       "4        193.41        169.57        204.63        152.60"
      ]
     },
     "execution_count": 16,
     "metadata": {},
     "output_type": "execute_result"
    }
   ],
   "source": [
    "df.head()"
   ]
  },
  {
   "cell_type": "code",
   "execution_count": 17,
   "id": "4f82e1f4",
   "metadata": {},
   "outputs": [
    {
     "data": {
      "text/plain": [
       "(120, 4)"
      ]
     },
     "execution_count": 17,
     "metadata": {},
     "output_type": "execute_result"
    }
   ],
   "source": [
    "df.shape"
   ]
  },
  {
   "cell_type": "code",
   "execution_count": 19,
   "id": "e7eb4704",
   "metadata": {},
   "outputs": [],
   "source": [
    "lab1=df[[\"Laboratory 1\"]]"
   ]
  },
  {
   "cell_type": "code",
   "execution_count": 20,
   "id": "1e4f75e5",
   "metadata": {},
   "outputs": [
    {
     "data": {
      "text/html": [
       "<div>\n",
       "<style scoped>\n",
       "    .dataframe tbody tr th:only-of-type {\n",
       "        vertical-align: middle;\n",
       "    }\n",
       "\n",
       "    .dataframe tbody tr th {\n",
       "        vertical-align: top;\n",
       "    }\n",
       "\n",
       "    .dataframe thead th {\n",
       "        text-align: right;\n",
       "    }\n",
       "</style>\n",
       "<table border=\"1\" class=\"dataframe\">\n",
       "  <thead>\n",
       "    <tr style=\"text-align: right;\">\n",
       "      <th></th>\n",
       "      <th>Laboratory 1</th>\n",
       "    </tr>\n",
       "  </thead>\n",
       "  <tbody>\n",
       "    <tr>\n",
       "      <th>0</th>\n",
       "      <td>185.35</td>\n",
       "    </tr>\n",
       "    <tr>\n",
       "      <th>1</th>\n",
       "      <td>170.49</td>\n",
       "    </tr>\n",
       "    <tr>\n",
       "      <th>2</th>\n",
       "      <td>192.77</td>\n",
       "    </tr>\n",
       "    <tr>\n",
       "      <th>3</th>\n",
       "      <td>177.33</td>\n",
       "    </tr>\n",
       "    <tr>\n",
       "      <th>4</th>\n",
       "      <td>193.41</td>\n",
       "    </tr>\n",
       "    <tr>\n",
       "      <th>...</th>\n",
       "      <td>...</td>\n",
       "    </tr>\n",
       "    <tr>\n",
       "      <th>115</th>\n",
       "      <td>178.49</td>\n",
       "    </tr>\n",
       "    <tr>\n",
       "      <th>116</th>\n",
       "      <td>176.08</td>\n",
       "    </tr>\n",
       "    <tr>\n",
       "      <th>117</th>\n",
       "      <td>202.48</td>\n",
       "    </tr>\n",
       "    <tr>\n",
       "      <th>118</th>\n",
       "      <td>182.40</td>\n",
       "    </tr>\n",
       "    <tr>\n",
       "      <th>119</th>\n",
       "      <td>182.09</td>\n",
       "    </tr>\n",
       "  </tbody>\n",
       "</table>\n",
       "<p>120 rows × 1 columns</p>\n",
       "</div>"
      ],
      "text/plain": [
       "     Laboratory 1\n",
       "0          185.35\n",
       "1          170.49\n",
       "2          192.77\n",
       "3          177.33\n",
       "4          193.41\n",
       "..            ...\n",
       "115        178.49\n",
       "116        176.08\n",
       "117        202.48\n",
       "118        182.40\n",
       "119        182.09\n",
       "\n",
       "[120 rows x 1 columns]"
      ]
     },
     "execution_count": 20,
     "metadata": {},
     "output_type": "execute_result"
    }
   ],
   "source": [
    "lab1"
   ]
  },
  {
   "cell_type": "code",
   "execution_count": 21,
   "id": "c757ad59",
   "metadata": {},
   "outputs": [],
   "source": [
    "lab2=df[[\"Laboratory 2\"]]"
   ]
  },
  {
   "cell_type": "code",
   "execution_count": 23,
   "id": "c39ea0f3",
   "metadata": {},
   "outputs": [],
   "source": [
    "lab3=df[[\"Laboratory 3\"]]"
   ]
  },
  {
   "cell_type": "code",
   "execution_count": 24,
   "id": "bb4299ca",
   "metadata": {},
   "outputs": [],
   "source": [
    "lab4=df[[\"Laboratory 4\"]]"
   ]
  },
  {
   "cell_type": "code",
   "execution_count": 25,
   "id": "7f580075",
   "metadata": {},
   "outputs": [
    {
     "data": {
      "text/plain": [
       "Laboratory 1    178.361583\n",
       "dtype: float64"
      ]
     },
     "execution_count": 25,
     "metadata": {},
     "output_type": "execute_result"
    }
   ],
   "source": [
    "lab1.mean()"
   ]
  },
  {
   "cell_type": "code",
   "execution_count": 30,
   "id": "b44a8e64",
   "metadata": {},
   "outputs": [
    {
     "data": {
      "text/plain": [
       "Laboratory 2    178.902917\n",
       "dtype: float64"
      ]
     },
     "execution_count": 30,
     "metadata": {},
     "output_type": "execute_result"
    }
   ],
   "source": [
    "lab2.mean()"
   ]
  },
  {
   "cell_type": "code",
   "execution_count": 32,
   "id": "1542acfc",
   "metadata": {},
   "outputs": [
    {
     "data": {
      "text/plain": [
       "Laboratory 3    199.91325\n",
       "dtype: float64"
      ]
     },
     "execution_count": 32,
     "metadata": {},
     "output_type": "execute_result"
    }
   ],
   "source": [
    "lab3.mean()"
   ]
  },
  {
   "cell_type": "code",
   "execution_count": 34,
   "id": "67ede481",
   "metadata": {},
   "outputs": [
    {
     "data": {
      "text/plain": [
       "Laboratory 4    163.68275\n",
       "dtype: float64"
      ]
     },
     "execution_count": 34,
     "metadata": {},
     "output_type": "execute_result"
    }
   ],
   "source": [
    "lab4.mean()"
   ]
  },
  {
   "cell_type": "code",
   "execution_count": 61,
   "id": "cdf22954",
   "metadata": {},
   "outputs": [
    {
     "data": {
      "text/plain": [
       "F_onewayResult(statistic=array([118.70421654]), pvalue=array([2.11567089e-57]))"
      ]
     },
     "execution_count": 61,
     "metadata": {},
     "output_type": "execute_result"
    }
   ],
   "source": [
    "stats.f_oneway(lab1,lab2,lab3,lab4)"
   ]
  },
  {
   "cell_type": "code",
   "execution_count": 4,
   "id": "dbdc8356",
   "metadata": {},
   "outputs": [
    {
     "data": {
      "text/plain": [
       "'if we reject null hypothesis,we will be wrong by a probability 2.11e^-5\\npvalue<0.05\\nHence we reject null hypothesis'"
      ]
     },
     "execution_count": 4,
     "metadata": {},
     "output_type": "execute_result"
    }
   ],
   "source": [
    "'''if we reject null hypothesis,we will be wrong by a probability 2.11e^-5\n",
    "pvalue<0.05\n",
    "Hence we reject null hypothesis'''"
   ]
  },
  {
   "cell_type": "code",
   "execution_count": 5,
   "id": "7c61da26",
   "metadata": {},
   "outputs": [
    {
     "data": {
      "text/plain": [
       "'      Sales of products in four different regions is tabulated for males and females. Find if male-female buyer rations are similar across regions.\\n'"
      ]
     },
     "execution_count": 5,
     "metadata": {},
     "output_type": "execute_result"
    }
   ],
   "source": [
    "'''      Sales of products in four different regions is tabulated for males and females. Find if male-female buyer rations are similar across regions.\n",
    "'''"
   ]
  },
  {
   "cell_type": "code",
   "execution_count": 29,
   "id": "a7e4937b",
   "metadata": {},
   "outputs": [],
   "source": [
    "import pandas as pd\n",
    "import numpy as np\n",
    "import scipy\n",
    "from scipy import stats\n",
    "from scipy.stats import chi2_contingency,chisquare"
   ]
  },
  {
   "cell_type": "code",
   "execution_count": 30,
   "id": "008b1eaa",
   "metadata": {},
   "outputs": [],
   "source": [
    "df=pd.read_csv(\"BuyerRatio.csv\")"
   ]
  },
  {
   "cell_type": "code",
   "execution_count": 31,
   "id": "cca7f8b5",
   "metadata": {},
   "outputs": [
    {
     "data": {
      "text/html": [
       "<div>\n",
       "<style scoped>\n",
       "    .dataframe tbody tr th:only-of-type {\n",
       "        vertical-align: middle;\n",
       "    }\n",
       "\n",
       "    .dataframe tbody tr th {\n",
       "        vertical-align: top;\n",
       "    }\n",
       "\n",
       "    .dataframe thead th {\n",
       "        text-align: right;\n",
       "    }\n",
       "</style>\n",
       "<table border=\"1\" class=\"dataframe\">\n",
       "  <thead>\n",
       "    <tr style=\"text-align: right;\">\n",
       "      <th></th>\n",
       "      <th>Observed Values</th>\n",
       "      <th>East</th>\n",
       "      <th>West</th>\n",
       "      <th>North</th>\n",
       "      <th>South</th>\n",
       "    </tr>\n",
       "  </thead>\n",
       "  <tbody>\n",
       "    <tr>\n",
       "      <th>0</th>\n",
       "      <td>Males</td>\n",
       "      <td>50</td>\n",
       "      <td>142</td>\n",
       "      <td>131</td>\n",
       "      <td>70</td>\n",
       "    </tr>\n",
       "    <tr>\n",
       "      <th>1</th>\n",
       "      <td>Females</td>\n",
       "      <td>435</td>\n",
       "      <td>1523</td>\n",
       "      <td>1356</td>\n",
       "      <td>750</td>\n",
       "    </tr>\n",
       "  </tbody>\n",
       "</table>\n",
       "</div>"
      ],
      "text/plain": [
       "  Observed Values  East  West  North  South\n",
       "0           Males    50   142    131     70\n",
       "1         Females   435  1523   1356    750"
      ]
     },
     "execution_count": 31,
     "metadata": {},
     "output_type": "execute_result"
    }
   ],
   "source": [
    "df.head()"
   ]
  },
  {
   "cell_type": "code",
   "execution_count": 32,
   "id": "053e411f",
   "metadata": {},
   "outputs": [
    {
     "data": {
      "text/plain": [
       "(2, 5)"
      ]
     },
     "execution_count": 32,
     "metadata": {},
     "output_type": "execute_result"
    }
   ],
   "source": [
    "df.shape"
   ]
  },
  {
   "cell_type": "code",
   "execution_count": 33,
   "id": "6f9f5e4a",
   "metadata": {},
   "outputs": [],
   "source": [
    "df.drop([\"Observed Values\"],axis=1,inplace=True)"
   ]
  },
  {
   "cell_type": "code",
   "execution_count": 34,
   "id": "c4a7140c",
   "metadata": {},
   "outputs": [
    {
     "data": {
      "text/html": [
       "<div>\n",
       "<style scoped>\n",
       "    .dataframe tbody tr th:only-of-type {\n",
       "        vertical-align: middle;\n",
       "    }\n",
       "\n",
       "    .dataframe tbody tr th {\n",
       "        vertical-align: top;\n",
       "    }\n",
       "\n",
       "    .dataframe thead th {\n",
       "        text-align: right;\n",
       "    }\n",
       "</style>\n",
       "<table border=\"1\" class=\"dataframe\">\n",
       "  <thead>\n",
       "    <tr style=\"text-align: right;\">\n",
       "      <th></th>\n",
       "      <th>East</th>\n",
       "      <th>West</th>\n",
       "      <th>North</th>\n",
       "      <th>South</th>\n",
       "    </tr>\n",
       "  </thead>\n",
       "  <tbody>\n",
       "    <tr>\n",
       "      <th>0</th>\n",
       "      <td>50</td>\n",
       "      <td>142</td>\n",
       "      <td>131</td>\n",
       "      <td>70</td>\n",
       "    </tr>\n",
       "    <tr>\n",
       "      <th>1</th>\n",
       "      <td>435</td>\n",
       "      <td>1523</td>\n",
       "      <td>1356</td>\n",
       "      <td>750</td>\n",
       "    </tr>\n",
       "  </tbody>\n",
       "</table>\n",
       "</div>"
      ],
      "text/plain": [
       "   East  West  North  South\n",
       "0    50   142    131     70\n",
       "1   435  1523   1356    750"
      ]
     },
     "execution_count": 34,
     "metadata": {},
     "output_type": "execute_result"
    }
   ],
   "source": [
    "df"
   ]
  },
  {
   "cell_type": "code",
   "execution_count": 35,
   "id": "b21843bd",
   "metadata": {},
   "outputs": [],
   "source": [
    "data=df.to_numpy()"
   ]
  },
  {
   "cell_type": "code",
   "execution_count": 36,
   "id": "bf196ba1",
   "metadata": {},
   "outputs": [
    {
     "data": {
      "text/plain": [
       "array([[  50,  142,  131,   70],\n",
       "       [ 435, 1523, 1356,  750]], dtype=int64)"
      ]
     },
     "execution_count": 36,
     "metadata": {},
     "output_type": "execute_result"
    }
   ],
   "source": [
    "data"
   ]
  },
  {
   "cell_type": "code",
   "execution_count": 37,
   "id": "b7cde65c",
   "metadata": {},
   "outputs": [
    {
     "data": {
      "text/plain": [
       "Chi2ContingencyResult(statistic=1.595945538661058, pvalue=0.6603094907091882, dof=3, expected_freq=array([[  42.76531299,  146.81287862,  131.11756787,   72.30424052],\n",
       "       [ 442.23468701, 1518.18712138, 1355.88243213,  747.69575948]]))"
      ]
     },
     "execution_count": 37,
     "metadata": {},
     "output_type": "execute_result"
    }
   ],
   "source": [
    "chi2_contingency(data)"
   ]
  },
  {
   "cell_type": "code",
   "execution_count": 38,
   "id": "56c36bdf",
   "metadata": {},
   "outputs": [],
   "source": [
    "# As the p_value is greater than alpha value we accept the null hypothesis\n",
    "# So we can say all propertions are equal."
   ]
  },
  {
   "cell_type": "code",
   "execution_count": 39,
   "id": "915016f7",
   "metadata": {},
   "outputs": [
    {
     "data": {
      "text/plain": [
       "'     TeleCall uses 4 centers around the globe to process customer order forms. They audit a certain %  of the customer order forms. Any error in order form renders it defective and has to be reworked before processing.  The manager wants to check whether the defective %  varies by centre. Please analyze the data at 5% significance level and help the manager draw appropriate inferences\\n'"
      ]
     },
     "execution_count": 39,
     "metadata": {},
     "output_type": "execute_result"
    }
   ],
   "source": [
    "'''     TeleCall uses 4 centers around the globe to process customer order forms. They audit a certain %  of the customer order forms. Any error in order form renders it defective and has to be reworked before processing.  The manager wants to check whether the defective %  varies by centre. Please analyze the data at 5% significance level and help the manager draw appropriate inferences\n",
    "'''"
   ]
  },
  {
   "cell_type": "code",
   "execution_count": 54,
   "id": "50927809",
   "metadata": {},
   "outputs": [],
   "source": [
    "import pandas as pd\n",
    "import numpy as np\n",
    "import scipy\n",
    "from scipy import stats\n",
    "from scipy.stats import chi2_contingency,chisquare"
   ]
  },
  {
   "cell_type": "code",
   "execution_count": 43,
   "id": "b4fb9e10",
   "metadata": {},
   "outputs": [],
   "source": [
    "df=pd.read_csv(\"Costomer+OrderForm.csv\")"
   ]
  },
  {
   "cell_type": "code",
   "execution_count": 44,
   "id": "13115615",
   "metadata": {},
   "outputs": [
    {
     "data": {
      "text/html": [
       "<div>\n",
       "<style scoped>\n",
       "    .dataframe tbody tr th:only-of-type {\n",
       "        vertical-align: middle;\n",
       "    }\n",
       "\n",
       "    .dataframe tbody tr th {\n",
       "        vertical-align: top;\n",
       "    }\n",
       "\n",
       "    .dataframe thead th {\n",
       "        text-align: right;\n",
       "    }\n",
       "</style>\n",
       "<table border=\"1\" class=\"dataframe\">\n",
       "  <thead>\n",
       "    <tr style=\"text-align: right;\">\n",
       "      <th></th>\n",
       "      <th>Phillippines</th>\n",
       "      <th>Indonesia</th>\n",
       "      <th>Malta</th>\n",
       "      <th>India</th>\n",
       "    </tr>\n",
       "  </thead>\n",
       "  <tbody>\n",
       "    <tr>\n",
       "      <th>0</th>\n",
       "      <td>Error Free</td>\n",
       "      <td>Error Free</td>\n",
       "      <td>Defective</td>\n",
       "      <td>Error Free</td>\n",
       "    </tr>\n",
       "    <tr>\n",
       "      <th>1</th>\n",
       "      <td>Error Free</td>\n",
       "      <td>Error Free</td>\n",
       "      <td>Error Free</td>\n",
       "      <td>Defective</td>\n",
       "    </tr>\n",
       "    <tr>\n",
       "      <th>2</th>\n",
       "      <td>Error Free</td>\n",
       "      <td>Defective</td>\n",
       "      <td>Defective</td>\n",
       "      <td>Error Free</td>\n",
       "    </tr>\n",
       "    <tr>\n",
       "      <th>3</th>\n",
       "      <td>Error Free</td>\n",
       "      <td>Error Free</td>\n",
       "      <td>Error Free</td>\n",
       "      <td>Error Free</td>\n",
       "    </tr>\n",
       "    <tr>\n",
       "      <th>4</th>\n",
       "      <td>Error Free</td>\n",
       "      <td>Error Free</td>\n",
       "      <td>Defective</td>\n",
       "      <td>Error Free</td>\n",
       "    </tr>\n",
       "  </tbody>\n",
       "</table>\n",
       "</div>"
      ],
      "text/plain": [
       "  Phillippines   Indonesia       Malta       India\n",
       "0   Error Free  Error Free   Defective  Error Free\n",
       "1   Error Free  Error Free  Error Free   Defective\n",
       "2   Error Free   Defective   Defective  Error Free\n",
       "3   Error Free  Error Free  Error Free  Error Free\n",
       "4   Error Free  Error Free   Defective  Error Free"
      ]
     },
     "execution_count": 44,
     "metadata": {},
     "output_type": "execute_result"
    }
   ],
   "source": [
    "df.head()"
   ]
  },
  {
   "cell_type": "code",
   "execution_count": 45,
   "id": "2fb6e103",
   "metadata": {},
   "outputs": [
    {
     "data": {
      "text/plain": [
       "(300, 4)"
      ]
     },
     "execution_count": 45,
     "metadata": {},
     "output_type": "execute_result"
    }
   ],
   "source": [
    "df.shape"
   ]
  },
  {
   "cell_type": "code",
   "execution_count": 46,
   "id": "2a319e4d",
   "metadata": {},
   "outputs": [
    {
     "data": {
      "text/plain": [
       "Error Free    271\n",
       "Defective      29\n",
       "Name: Phillippines, dtype: int64"
      ]
     },
     "execution_count": 46,
     "metadata": {},
     "output_type": "execute_result"
    }
   ],
   "source": [
    "df.Phillippines.value_counts()"
   ]
  },
  {
   "cell_type": "code",
   "execution_count": 47,
   "id": "f2642f58",
   "metadata": {},
   "outputs": [
    {
     "data": {
      "text/plain": [
       "Error Free    267\n",
       "Defective      33\n",
       "Name: Indonesia, dtype: int64"
      ]
     },
     "execution_count": 47,
     "metadata": {},
     "output_type": "execute_result"
    }
   ],
   "source": [
    "df.Indonesia.value_counts()"
   ]
  },
  {
   "cell_type": "code",
   "execution_count": 48,
   "id": "41adff5a",
   "metadata": {},
   "outputs": [
    {
     "data": {
      "text/plain": [
       "Error Free    269\n",
       "Defective      31\n",
       "Name: Malta, dtype: int64"
      ]
     },
     "execution_count": 48,
     "metadata": {},
     "output_type": "execute_result"
    }
   ],
   "source": [
    "df.Malta.value_counts()"
   ]
  },
  {
   "cell_type": "code",
   "execution_count": 49,
   "id": "4eed35a4",
   "metadata": {},
   "outputs": [
    {
     "data": {
      "text/plain": [
       "Error Free    280\n",
       "Defective      20\n",
       "Name: India, dtype: int64"
      ]
     },
     "execution_count": 49,
     "metadata": {},
     "output_type": "execute_result"
    }
   ],
   "source": [
    "df.India.value_counts()"
   ]
  },
  {
   "cell_type": "code",
   "execution_count": 51,
   "id": "0e8d9afe",
   "metadata": {},
   "outputs": [],
   "source": [
    "data=np.array([[271,267,269,280],[29,33,31,20]])"
   ]
  },
  {
   "cell_type": "code",
   "execution_count": 52,
   "id": "35f4ec08",
   "metadata": {},
   "outputs": [
    {
     "data": {
      "text/plain": [
       "array([[271, 267, 269, 280],\n",
       "       [ 29,  33,  31,  20]])"
      ]
     },
     "execution_count": 52,
     "metadata": {},
     "output_type": "execute_result"
    }
   ],
   "source": [
    "data"
   ]
  },
  {
   "cell_type": "code",
   "execution_count": 53,
   "id": "88ee4d5d",
   "metadata": {},
   "outputs": [
    {
     "data": {
      "text/plain": [
       "Chi2ContingencyResult(statistic=3.858960685820355, pvalue=0.2771020991233135, dof=3, expected_freq=array([[271.75, 271.75, 271.75, 271.75],\n",
       "       [ 28.25,  28.25,  28.25,  28.25]]))"
      ]
     },
     "execution_count": 53,
     "metadata": {},
     "output_type": "execute_result"
    }
   ],
   "source": [
    "chi2_contingency(data)"
   ]
  },
  {
   "cell_type": "code",
   "execution_count": 55,
   "id": "d4a3d8d5",
   "metadata": {},
   "outputs": [
    {
     "data": {
      "text/plain": [
       "' As the p_value is less than alpha value we rejecting the null hypothesis\\n So we can say there is defects in the Customer Order Forms '"
      ]
     },
     "execution_count": 55,
     "metadata": {},
     "output_type": "execute_result"
    }
   ],
   "source": [
    "''' As the p_value is less than alpha value we rejecting the null hypothesis\n",
    " So we can say there is defects in the Customer Order Forms '''"
   ]
  },
  {
   "cell_type": "code",
   "execution_count": null,
   "id": "b75a0f9a",
   "metadata": {},
   "outputs": [],
   "source": []
  }
 ],
 "metadata": {
  "kernelspec": {
   "display_name": "Python 3 (ipykernel)",
   "language": "python",
   "name": "python3"
  },
  "language_info": {
   "codemirror_mode": {
    "name": "ipython",
    "version": 3
   },
   "file_extension": ".py",
   "mimetype": "text/x-python",
   "name": "python",
   "nbconvert_exporter": "python",
   "pygments_lexer": "ipython3",
   "version": "3.9.7"
  }
 },
 "nbformat": 4,
 "nbformat_minor": 5
}
